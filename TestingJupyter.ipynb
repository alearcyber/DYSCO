{
 "cells": [
  {
   "cell_type": "code",
   "execution_count": 7,
   "outputs": [
    {
     "name": "stderr",
     "output_type": "stream",
     "text": [
      "/var/folders/xv/d7pkzy0s5mg8wn80_xc_tpk40000gn/T/ipykernel_8383/2194681391.py:2: MatplotlibDeprecationWarning: Auto-close()ing of figures upon backend switching is deprecated since 3.8 and will be removed two minor releases later.  To suppress this warning, explicitly call plt.close('all') first.\n",
      "  matplotlib.use('nbAgg')\n"
     ]
    },
    {
     "data": {
      "text/plain": "interactive(children=(FloatSlider(value=1.0, description='gamma', max=3.0, min=0.1), Output()), _dom_classes=(…",
      "application/vnd.jupyter.widget-view+json": {
       "version_major": 2,
       "version_minor": 0,
       "model_id": "09bb9952908d48d48bf2ce8a6b334584"
      }
     },
     "metadata": {},
     "output_type": "display_data"
    },
    {
     "data": {
      "text/plain": "<function __main__.display_image(gamma)>"
     },
     "execution_count": 7,
     "metadata": {},
     "output_type": "execute_result"
    }
   ],
   "source": [
    "import matplotlib\n",
    "matplotlib.use('nbAgg')\n",
    "import cv2\n",
    "import numpy as np\n",
    "import matplotlib.pyplot as plt\n",
    "from ipywidgets import interact, FloatSlider\n",
    "\n",
    "%matplotlib inline\n",
    "\n",
    "IMAGE = cv2.cvtColor(cv2.imread(\"/Users/aidan/Desktop/SamTvDefault/20240724_152612.jpg\"), cv2.COLOR_BGR2RGB)\n",
    "\n",
    "def power_law_transform(image, gamma):\n",
    "    # Apply power law transformation\n",
    "    gamma_corrected = np.array(255 * (image / 255) ** gamma, dtype='uint8')\n",
    "    return gamma_corrected\n",
    "\n",
    "def display_image(gamma):\n",
    "    # Transform and display the image\n",
    "    transformed_image = power_law_transform(IMAGE, gamma)\n",
    "    plt.figure(figsize=(10, 10))\n",
    "    plt.imshow(transformed_image)\n",
    "    plt.title(f'Gamma: {gamma}')\n",
    "    plt.axis('off')\n",
    "    plt.show()\n",
    "\n",
    "interact(display_image, gamma=FloatSlider(value=1.0, min=0.1, max=3.0, step=0.1))"
   ],
   "metadata": {
    "collapsed": false,
    "ExecuteTime": {
     "end_time": "2024-07-25T15:48:10.862939Z",
     "start_time": "2024-07-25T15:48:10.021268Z"
    }
   }
  }
 ],
 "metadata": {
  "kernelspec": {
   "display_name": "Python 3 (ipykernel)",
   "language": "python",
   "name": "python3"
  },
  "language_info": {
   "codemirror_mode": {
    "name": "ipython",
    "version": 3
   },
   "file_extension": ".py",
   "mimetype": "text/x-python",
   "name": "python",
   "nbconvert_exporter": "python",
   "pygments_lexer": "ipython3",
   "version": "3.11.3"
  }
 },
 "nbformat": 4,
 "nbformat_minor": 4
}
